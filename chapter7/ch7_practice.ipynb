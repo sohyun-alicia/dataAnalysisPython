{
 "cells": [
  {
   "cell_type": "code",
   "execution_count": 16,
   "metadata": {},
   "outputs": [
    {
     "name": "stdout",
     "output_type": "stream",
     "text": [
      "Requirement already satisfied: pip in c:\\users\\82108\\anaconda3\\lib\\site-packages (21.1.2)\n"
     ]
    }
   ],
   "source": [
    "!python -m pip install --upgrade pip"
   ]
  },
  {
   "cell_type": "code",
   "execution_count": 17,
   "metadata": {},
   "outputs": [
    {
     "name": "stdout",
     "output_type": "stream",
     "text": [
      "Collecting ortoolpy\n",
      "  Using cached ortoolpy-0.2.38-py3-none-any.whl (24 kB)\n",
      "Requirement already satisfied: pulp<3.0.0,>=2.3.1 in c:\\users\\82108\\anaconda3\\lib\\site-packages (from ortoolpy) (2.4)\n",
      "Requirement already satisfied: pandas<2.0.0,>=1.1.4 in c:\\users\\82108\\anaconda3\\lib\\site-packages (from ortoolpy) (1.2.4)\n",
      "Collecting more-itertools<9.0.0,>=8.6.0\n",
      "  Using cached more_itertools-8.8.0-py3-none-any.whl (48 kB)\n",
      "Requirement already satisfied: python-dateutil>=2.7.3 in c:\\users\\82108\\appdata\\roaming\\python\\python37\\site-packages (from pandas<2.0.0,>=1.1.4->ortoolpy) (2.8.1)\n",
      "Requirement already satisfied: numpy>=1.16.5 in c:\\users\\82108\\anaconda3\\lib\\site-packages (from pandas<2.0.0,>=1.1.4->ortoolpy) (1.18.1)\n",
      "Requirement already satisfied: pytz>=2017.3 in c:\\users\\82108\\anaconda3\\lib\\site-packages (from pandas<2.0.0,>=1.1.4->ortoolpy) (2019.3)\n",
      "Requirement already satisfied: amply>=0.1.2 in c:\\users\\82108\\anaconda3\\lib\\site-packages (from pulp<3.0.0,>=2.3.1->ortoolpy) (0.1.4)\n",
      "Requirement already satisfied: pyparsing in c:\\users\\82108\\anaconda3\\lib\\site-packages (from amply>=0.1.2->pulp<3.0.0,>=2.3.1->ortoolpy) (2.4.6)\n",
      "Requirement already satisfied: docutils>=0.3 in c:\\users\\82108\\anaconda3\\lib\\site-packages (from amply>=0.1.2->pulp<3.0.0,>=2.3.1->ortoolpy) (0.16)\n",
      "Requirement already satisfied: six>=1.5 in c:\\users\\82108\\appdata\\roaming\\python\\python37\\site-packages (from python-dateutil>=2.7.3->pandas<2.0.0,>=1.1.4->ortoolpy) (1.15.0)\n",
      "Installing collected packages: more-itertools, ortoolpy\n",
      "Successfully installed more-itertools-8.8.0 ortoolpy-0.2.38\n"
     ]
    },
    {
     "name": "stderr",
     "output_type": "stream",
     "text": [
      "ERROR: pip's dependency resolver does not currently take into account all the packages that are installed. This behaviour is the source of the following dependency conflicts.\n",
      "pytest-astropy 0.8.0 requires pytest-cov>=2.0, which is not installed.\n",
      "pytest-astropy 0.8.0 requires pytest-filter-subpackage>=0.1, which is not installed.\n"
     ]
    }
   ],
   "source": [
    "!pip install ortoolpy --user"
   ]
  },
  {
   "cell_type": "markdown",
   "metadata": {},
   "source": [
    "###### 운송화 최적화 문제 풀기"
   ]
  },
  {
   "cell_type": "code",
   "execution_count": 21,
   "metadata": {},
   "outputs": [
    {
     "name": "stdout",
     "output_type": "stream",
     "text": [
      "    F1  F2  F3  F4\n",
      "공장                \n",
      "W1  28   7   0   0\n",
      "W2   0   0  31   5\n",
      "W3   0  22   0  20\n",
      "총 운송 비용:1296.0\n"
     ]
    }
   ],
   "source": [
    "import numpy as np\n",
    "import pandas as pd\n",
    "from itertools import product\n",
    "from pulp import LpVariable, lpSum, value\n",
    "from ortoolpy import model_min, addvars, addvals\n",
    "\n",
    "# 데이터 불러오기\n",
    "df_tc = pd.read_csv('trans_cost.csv', index_col=\"공장\")\n",
    "df_demand = pd.read_csv('demand.csv')\n",
    "df_supply = pd.read_csv('supply.csv')\n",
    "\n",
    "# 초기 설정  #\n",
    "np.random.seed(1)\n",
    "nw = len(df_tc.index)\n",
    "nf = len(df_tc.columns)\n",
    "pr = list(product(range(nw), range(nf)))\n",
    "\n",
    "# 수리 모델 작성  #\n",
    "m1 = model_min()\n",
    "v1 = {(i,j):LpVariable('v%d_%d'%(i,j),lowBound=0) for i,j in pr}\n",
    "\n",
    "m1 += lpSum(df_tc.iloc[i][j]*v1[i,j] for i,j in pr)\n",
    "for i in range(nw):\n",
    "    m1 += lpSum(v1[i,j] for j in range(nf)) <= df_supply.iloc[0][i]\n",
    "for j in range(nf):\n",
    "    m1 += lpSum(v1[i,j] for i in range(nw)) >= df_demand.iloc[0][j]\n",
    "m1.solve()\n",
    "\n",
    "# 총 운송 비용 계산#\n",
    "df_tr_sol = df_tc.copy()\n",
    "total_cost = 0\n",
    "for k,x in v1.items():\n",
    "    i,j = k[0],k[1]\n",
    "    df_tr_sol.iloc[i][j] = value(x)\n",
    "    total_cost += df_tc.iloc[i][j]*value(x)\n",
    "    \n",
    "print(df_tr_sol)\n",
    "print(\"총 운송 비용:\"+str(total_cost))"
   ]
  },
  {
   "cell_type": "markdown",
   "metadata": {},
   "source": [
    "###### 최적운송경로로 네트워크 확인"
   ]
  },
  {
   "cell_type": "code",
   "execution_count": 22,
   "metadata": {},
   "outputs": [],
   "source": [
    "import pandas as pd\n",
    "import numpy as np\n",
    "import matplotlib.pyplot as plt\n",
    "import networkx as nx\n",
    "\n",
    "# 데이터 불러오기\n",
    "df_tr = df_tr_sol.copy()\n",
    "df_pos = pd.read_csv('trans_route_pos.csv')\n",
    "\n",
    "# 객체 생성\n",
    "G = nx.Graph()\n",
    "\n",
    "# 노드 설정\n",
    "for i in range(len(df_pos.columns)):\n",
    "    G.add_node(df_pos.columns[i])\n",
    "\n",
    "# 엣지 설정 & 엣지의 가중치 리스트화\n",
    "num_pre = 0\n",
    "edge_weights = []\n",
    "size = 0.1\n",
    "for i in range(len(df_pos.columns)):\n",
    "    for j in range(len(df_pos.columns)):\n",
    "        if not (i==j):\n",
    "            # 엣지 추가\n",
    "            G.add_edge(df_pos.columns[i],df_pos.columns[j])\n",
    "            # 엣지 가중치 추가\n",
    "            if num_pre<len(G.edges):\n",
    "                num_pre = len(G.edges)\n",
    "   "
   ]
  },
  {
   "cell_type": "code",
   "execution_count": null,
   "metadata": {},
   "outputs": [],
   "source": []
  }
 ],
 "metadata": {
  "kernelspec": {
   "display_name": "Python 3",
   "language": "python",
   "name": "python3"
  },
  "language_info": {
   "codemirror_mode": {
    "name": "ipython",
    "version": 3
   },
   "file_extension": ".py",
   "mimetype": "text/x-python",
   "name": "python",
   "nbconvert_exporter": "python",
   "pygments_lexer": "ipython3",
   "version": "3.7.6"
  }
 },
 "nbformat": 4,
 "nbformat_minor": 4
}
